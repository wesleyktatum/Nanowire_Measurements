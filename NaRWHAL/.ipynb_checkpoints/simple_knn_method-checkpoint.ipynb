{
 "cells": [
  {
   "cell_type": "code",
   "execution_count": 1,
   "metadata": {
    "collapsed": false
   },
   "outputs": [
    {
     "data": {
      "image/png": "[encoded data removed]",
      "text/plain": [
       "<matplotlib.figure.Figure at 0x111e54390>"
      ]
     },
     "metadata": {},
     "output_type": "display_data"
    },
    {
     "data": {
      "image/png": "[encoded data removed]",
      "text/plain": [
       "<matplotlib.figure.Figure at 0x114f4ae50>"
      ]
     },
     "metadata": {},
     "output_type": "display_data"
    }
   ],
   "source": [
    "import numpy as np\n",
    "import math\n",
    "import matplotlib.pyplot as plt\n",
    "\n",
    "wire_image = np.loadtxt('../Data/100-0_72_NW-003')\n",
    "#side = np.linspace(1,len(wire_image),len(wire_image))                                                                                                                                                     \n",
    "side = np.linspace(1,40,40)\n",
    "x,y = np.meshgrid(side,side)\n",
    "plt.figure(1)\n",
    "plt.contourf(x,y,wire_image[321:361,321:361],cmap='bwr')\n",
    "plt.colorbar()\n",
    "plt.show()\n",
    "\n"
   ]
  },
  {
   "cell_type": "code",
   "execution_count": 3,
   "metadata": {
    "collapsed": false
   },
   "outputs": [],
   "source": [
    "# manually sharpen the image\n",
    "for x in range(len(wire_image)):\n",
    "    for y in range(len(wire_image)):\n",
    "        gaussian = (1/(2*math.pi))*math.exp(-(x**2 + y**2)/2.)\n",
    "        # need to go back and check convolution code in matlab"
   ]
  },
  {
   "cell_type": "code",
   "execution_count": null,
   "metadata": {
    "collapsed": true
   },
   "outputs": [],
   "source": []
  },
  {
   "cell_type": "code",
   "execution_count": null,
   "metadata": {
    "collapsed": true
   },
   "outputs": [],
   "source": []
  },
  {
   "cell_type": "code",
   "execution_count": null,
   "metadata": {
    "collapsed": true
   },
   "outputs": [],
   "source": []
  },
  {
   "cell_type": "code",
   "execution_count": null,
   "metadata": {
    "collapsed": true
   },
   "outputs": [],
   "source": [
    "single_wire = wire_image[321:361,321:361]\n",
    "\n",
    "for j in range(0,len(side)):\n",
    "        for jj in range(0,len(side)):\n",
    "                if single_wire[j,jj] < 0:\n",
    "                        single_wire[j,jj] = 0\n",
    "                else:\n",
    "                        pass\n",
    "\n",
    "count = np.zeros((len(side),len(side)))\n",
    "top = np.max(single_wire)\n",
    "bottom = np.min(single_wire)\n",
    "\n",
    "for j in range(0,len(side)):\n",
    "        for jj in range(0,len(side)):\n",
    "                dist_from_top = top - single_wire[j,jj]\n",
    "                dist_from_bottom = single_wire[j,jj] - bottom\n",
    "                if dist_from_top < dist_from_bottom:\n",
    "                        count[j,jj] = 1\n",
    "                else:\n",
    "                        count[j,jj] = 0\n",
    "\n",
    "plt.figure(2)\n",
    "plt.subplot(1,2,1)\n",
    "plt.contourf(x,y,single_wire,cmap='bwr')\n",
    "plt.colorbar()\n",
    "plt.subplot(1,2,2)\n",
    "plt.contourf(x,y,count,cmap='bwr',levels=[0,0.5,1])\n",
    "plt.colorbar()\n",
    "plt.tight_layout()\n",
    "plt.show()"
   ]
  },
  {
   "cell_type": "code",
   "execution_count": 4,
   "metadata": {
    "collapsed": false
   },
   "outputs": [
    {
     "data": {
      "text/plain": [
       "array([[ 0.,  0.,  0., ...,  0.,  0.,  0.],\n",
       "       [ 0.,  0.,  0., ...,  0.,  0.,  0.],\n",
       "       [ 0.,  0.,  0., ...,  0.,  0.,  0.],\n",
       "       ..., \n",
       "       [ 0.,  0.,  0., ...,  0.,  0.,  0.],\n",
       "       [ 0.,  0.,  0., ...,  0.,  0.,  0.],\n",
       "       [ 0.,  0.,  0., ...,  0.,  0.,  0.]])"
      ]
     },
     "execution_count": 4,
     "metadata": {},
     "output_type": "execute_result"
    }
   ],
   "source": [
    "count"
   ]
  },
  {
   "cell_type": "code",
   "execution_count": 5,
   "metadata": {
    "collapsed": true
   },
   "outputs": [],
   "source": [
    "# now I want to get the points where we go from 0 --> 1 and 1 --> 0\n",
    "# and then turn them into lines\n",
    "# and then compute the \"width\" of the wires from those lines"
   ]
  },
  {
   "cell_type": "code",
   "execution_count": null,
   "metadata": {
    "collapsed": true
   },
   "outputs": [],
   "source": []
  }
 ],
 "metadata": {
  "kernelspec": {
   "display_name": "Python [default]",
   "language": "python",
   "name": "python2"
  },
  "language_info": {
   "codemirror_mode": {
    "name": "ipython",
    "version": 2
   },
   "file_extension": ".py",
   "mimetype": "text/x-python",
   "name": "python",
   "nbconvert_exporter": "python",
   "pygments_lexer": "ipython2",
   "version": "2.7.13"
  }
 },
 "nbformat": 4,
 "nbformat_minor": 2
}
