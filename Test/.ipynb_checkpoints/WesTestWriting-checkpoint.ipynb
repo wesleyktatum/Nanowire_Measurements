{
 "cells": [
  {
   "cell_type": "code",
   "execution_count": 6,
   "metadata": {
    "collapsed": false
   },
   "outputs": [
    {
     "ename": "ImportError",
     "evalue": "No module named 'background_removal'",
     "output_type": "error",
     "traceback": [
      "\u001b[0;31m---------------------------------------------------------------------------\u001b[0m",
      "\u001b[0;31mImportError\u001b[0m                               Traceback (most recent call last)",
      "\u001b[0;32m<ipython-input-6-5f4002e88b8f>\u001b[0m in \u001b[0;36m<module>\u001b[0;34m()\u001b[0m\n\u001b[0;32m----> 1\u001b[0;31m \u001b[0;32mimport\u001b[0m \u001b[0mbackground_removal\u001b[0m\u001b[0;34m\u001b[0m\u001b[0m\n\u001b[0m\u001b[1;32m      2\u001b[0m \u001b[0;32mimport\u001b[0m \u001b[0mhistogram_equalization\u001b[0m\u001b[0;34m\u001b[0m\u001b[0m\n\u001b[1;32m      3\u001b[0m \u001b[0;34m\u001b[0m\u001b[0m\n\u001b[1;32m      4\u001b[0m \u001b[0;32mimport\u001b[0m \u001b[0mnumpy\u001b[0m \u001b[0;32mas\u001b[0m \u001b[0mnp\u001b[0m\u001b[0;34m\u001b[0m\u001b[0m\n",
      "\u001b[0;31mImportError\u001b[0m: No module named 'background_removal'"
     ]
    }
   ],
   "source": [
    "import background_removal\n",
    "import histogram_equalization\n",
    "\n",
    "import numpy as np"
   ]
  },
  {
   "cell_type": "code",
   "execution_count": 5,
   "metadata": {
    "collapsed": true
   },
   "outputs": [],
   "source": [
    "def test_background_removal():\n",
    "    \"\"\"\n",
    "    This function tests the background removal function\n",
    "    \"\"\"\n",
    "    testdata = np.genfromtxt('../Data/UnbackgroundedTXT/5umUniformNetwork')\n",
    "    bkgd = background_removal(testdata)\n",
    "    \n",
    "    assert bkgd != None, 'Backgrounding has deleted datafile'\n",
    "    return"
   ]
  },
  {
   "cell_type": "code",
   "execution_count": null,
   "metadata": {
    "collapsed": true
   },
   "outputs": [],
   "source": [
    "def test_histogram_equalization():\n",
    "    \"\"\"\n",
    "    This function tests the histogram equalization function\n",
    "    \"\"\"\n",
    "    \n",
    "    testdata = np.genfromtxt('../Data/UnbackgroundedTXT/5umUniformNetwork')\n",
    "    \n",
    "    equ = histogram_equalization(testdata)\n",
    "    \n",
    "    assert equ != None, 'Equalization has deleted datafile'\n",
    "    return"
   ]
  }
 ],
 "metadata": {
  "kernelspec": {
   "display_name": "Python [conda root]",
   "language": "python",
   "name": "conda-root-py"
  },
  "language_info": {
   "codemirror_mode": {
    "name": "ipython",
    "version": 3
   },
   "file_extension": ".py",
   "mimetype": "text/x-python",
   "name": "python",
   "nbconvert_exporter": "python",
   "pygments_lexer": "ipython3",
   "version": "3.5.2"
  }
 },
 "nbformat": 4,
 "nbformat_minor": 2
}
