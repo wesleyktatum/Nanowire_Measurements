{
 "cells": [
  {
   "cell_type": "code",
   "execution_count": 1,
   "metadata": {
    "collapsed": true
   },
   "outputs": [],
   "source": [
    "import numpy as np\n",
    "import matplotlib\n",
    "import matplotlib.pyplot as plt\n",
    "\n",
    "from skimage import data\n",
    "from skimage.util.dtype import dtype_range\n",
    "from skimage.util import img_as_ubyte\n",
    "from skimage import exposure\n",
    "from skimage.morphology import disk\n",
    "from skimage.filters import rank"
   ]
  },
  {
   "cell_type": "code",
   "execution_count": 3,
   "metadata": {
    "collapsed": false
   },
   "outputs": [],
   "source": [
    "matplotlib.rcParams['font.size'] = 9\n",
    "\n",
    "\n",
    "def plot_img_and_hist(img, axes, bins=256):\n",
    "    \"\"\"Plot an image along with its histogram and cumulative histogram.\n",
    "\n",
    "    \"\"\"\n",
    "    ax_img, ax_hist = axes\n",
    "    ax_cdf = ax_hist.twinx()\n",
    "\n",
    "    # Display image\n",
    "    ax_img.imshow(img, cmap=plt.cm.gray)\n",
    "    ax_img.set_axis_off()\n",
    "\n",
    "    # Display histogram\n",
    "    ax_hist.hist(img.ravel(), bins=bins)\n",
    "    ax_hist.ticklabel_format(axis='y', style='scientific', scilimits=(0, 0))\n",
    "    ax_hist.set_xlabel('Pixel intensity')\n",
    "\n",
    "    xmin, xmax = dtype_range[img.dtype.type]\n",
    "    ax_hist.set_xlim(xmin, xmax)\n",
    "\n",
    "    # Display cumulative distribution\n",
    "    img_cdf, bins = exposure.cumulative_distribution(img, bins)\n",
    "    ax_cdf.plot(bins, img_cdf, 'r')\n",
    "\n",
    "    return ax_img, ax_hist, ax_cdf"
   ]
  },
  {
   "cell_type": "code",
   "execution_count": 4,
   "metadata": {
    "collapsed": true
   },
   "outputs": [],
   "source": [
    "# Load data\n",
    "afmdata = np.genfromtxt('../Data/UnbackgroundedTXT/500nmGood-0')\n",
    "afmdata= afmdata*(10**9)\n",
    "height, width = afmdata.shape\n",
    "afmimg=np.zeros((height, width, 3))"
   ]
  },
  {
   "cell_type": "code",
   "execution_count": 12,
   "metadata": {
    "collapsed": false
   },
   "outputs": [],
   "source": [
    "factor=(255)/(afmdata.max()-afmdata.min())\n",
    "for i in range(height):\n",
    "    for j in range(width):\n",
    "        intensity=np.int((afmdata[i][j]-afmdata.min())*factor)\n",
    "        #afmimg[i][j]=np.array([np.int((afmdata[i][j]-afmdata.min())*factor),0,0])\n",
    "        afmimg[i][j]=np.array([intensity, intensity, intensity])"
   ]
  },
  {
   "cell_type": "code",
   "execution_count": 9,
   "metadata": {
    "collapsed": false
   },
   "outputs": [
    {
     "name": "stderr",
     "output_type": "stream",
     "text": [
      "/Users/wesleytatum/miniconda3/lib/python3.5/site-packages/skimage/util/dtype.py:110: UserWarning: Possible precision loss when converting from float64 to uint8\n",
      "  \"%s to %s\" % (dtypeobj_in, dtypeobj))\n"
     ]
    },
    {
     "data": {
      "text/plain": [
       "(3,)"
      ]
     },
     "execution_count": 9,
     "metadata": {},
     "output_type": "execute_result"
    }
   ],
   "source": [
    "afmimg = np.array([0, 0.5, 1], dtype=float)\n",
    "afmimg.shape"
   ]
  },
  {
   "cell_type": "code",
   "execution_count": 5,
   "metadata": {
    "collapsed": false
   },
   "outputs": [
    {
     "ename": "NameError",
     "evalue": "name 'img' is not defined",
     "output_type": "error",
     "traceback": [
      "\u001b[0;31m---------------------------------------------------------------------------\u001b[0m",
      "\u001b[0;31mNameError\u001b[0m                                 Traceback (most recent call last)",
      "\u001b[0;32m<ipython-input-5-4243b01c0c95>\u001b[0m in \u001b[0;36m<module>\u001b[0;34m()\u001b[0m\n\u001b[1;32m      4\u001b[0m \u001b[0;31m# Equalization\u001b[0m\u001b[0;34m\u001b[0m\u001b[0;34m\u001b[0m\u001b[0m\n\u001b[1;32m      5\u001b[0m \u001b[0mselem\u001b[0m \u001b[0;34m=\u001b[0m \u001b[0mdisk\u001b[0m\u001b[0;34m(\u001b[0m\u001b[0;36m30\u001b[0m\u001b[0;34m)\u001b[0m\u001b[0;34m\u001b[0m\u001b[0m\n\u001b[0;32m----> 6\u001b[0;31m \u001b[0mimg_eq\u001b[0m \u001b[0;34m=\u001b[0m \u001b[0mrank\u001b[0m\u001b[0;34m.\u001b[0m\u001b[0mequalize\u001b[0m\u001b[0;34m(\u001b[0m\u001b[0mimg\u001b[0m\u001b[0;34m,\u001b[0m \u001b[0mselem\u001b[0m\u001b[0;34m=\u001b[0m\u001b[0mselem\u001b[0m\u001b[0;34m)\u001b[0m\u001b[0;34m\u001b[0m\u001b[0m\n\u001b[0m\u001b[1;32m      7\u001b[0m \u001b[0;34m\u001b[0m\u001b[0m\n\u001b[1;32m      8\u001b[0m \u001b[0;34m\u001b[0m\u001b[0m\n",
      "\u001b[0;31mNameError\u001b[0m: name 'img' is not defined"
     ]
    }
   ],
   "source": [
    "# Global equalize\n",
    "img_rescale = exposure.equalize_hist(afmdata)\n",
    "\n",
    "# Equalization\n",
    "selem = disk(30)\n",
    "img_eq = rank.equalize(afmdata, selem=selem)\n",
    "\n",
    "\n",
    "# Display results\n",
    "fig = plt.figure(figsize=(8, 5))\n",
    "axes = np.zeros((2, 3), dtype=np.object)\n",
    "axes[0, 0] = plt.subplot(2, 3, 1, adjustable='box-forced')\n",
    "axes[0, 1] = plt.subplot(2, 3, 2, sharex=axes[0, 0], sharey=axes[0, 0],\n",
    "                         adjustable='box-forced')\n",
    "axes[0, 2] = plt.subplot(2, 3, 3, sharex=axes[0, 0], sharey=axes[0, 0],\n",
    "                         adjustable='box-forced')\n",
    "axes[1, 0] = plt.subplot(2, 3, 4)\n",
    "axes[1, 1] = plt.subplot(2, 3, 5)\n",
    "axes[1, 2] = plt.subplot(2, 3, 6)\n",
    "\n",
    "ax_img, ax_hist, ax_cdf = plot_img_and_hist(afmdata, axes[:, 0])\n",
    "ax_img.set_title('Low contrast image')\n",
    "ax_hist.set_ylabel('Number of pixels')\n",
    "\n",
    "ax_img, ax_hist, ax_cdf = plot_img_and_hist(img_rescale, axes[:, 1])\n",
    "ax_img.set_title('Global equalise')\n",
    "\n",
    "ax_img, ax_hist, ax_cdf = plot_img_and_hist(img_eq, axes[:, 2])\n",
    "ax_img.set_title('Local equalize')\n",
    "ax_cdf.set_ylabel('Fraction of total intensity')\n",
    "\n",
    "\n",
    "# prevent overlap of y-axis labels\n",
    "fig.tight_layout()\n",
    "plt.show()"
   ]
  },
  {
   "cell_type": "code",
   "execution_count": null,
   "metadata": {
    "collapsed": true
   },
   "outputs": [],
   "source": []
  }
 ],
 "metadata": {
  "anaconda-cloud": {},
  "kernelspec": {
   "display_name": "Python [conda root]",
   "language": "python",
   "name": "conda-root-py"
  },
  "language_info": {
   "codemirror_mode": {
    "name": "ipython",
    "version": 3
   },
   "file_extension": ".py",
   "mimetype": "text/x-python",
   "name": "python",
   "nbconvert_exporter": "python",
   "pygments_lexer": "ipython3",
   "version": "3.5.2"
  }
 },
 "nbformat": 4,
 "nbformat_minor": 2
}
