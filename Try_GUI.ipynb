{
 "cells": [
  {
   "cell_type": "code",
   "execution_count": 1,
   "metadata": {
    "collapsed": true
   },
   "outputs": [],
   "source": [
    "import tkinter\n",
    "#from tkinter import messagebox\n",
    "from tkinter.filedialog import askopenfilename\n",
    "import matplotlib\n",
    "matplotlib.use(\"TkAgg\")\n",
    "from matplotlib.backends.backend_tkagg import FigureCanvasTkAgg, NavigationToolbar2TkAgg\n",
    "from matplotlib.figure import Figure\n",
    "import numpy as np\n",
    "\n",
    "top = tkinter.Tk()\n",
    "\n",
    "def UploadFile():\n",
    "    \"\"\" Upload the chosen file and plot the nanowire image onto the canvas\"\"\"\n",
    "    filename = askopenfilename() #upload file\n",
    "    afmdata=np.genfromtxt(filename)\n",
    "    afmdata= afmdata*(10**9)\n",
    "    height, width = afmdata.shape\n",
    "    afmimg=np.zeros((height, width, 3))\n",
    "    factor=(255)/(afmdata.max()-afmdata.min())\n",
    "    for i in range(height):\n",
    "        for j in range(width):\n",
    "            intensity=np.int((afmdata[i][j]-afmdata.min())*factor)\n",
    "            afmimg[i][j]=np.array([intensity, intensity, intensity])\n",
    "    f = Figure(figsize=(5,5), dpi=100)\n",
    "    a = f.add_subplot(111)\n",
    "    a.imshow(np.uint8(afmimg)) #plot the nanowire image\n",
    "    canvas = FigureCanvasTkAgg(f, top) #create canvas\n",
    "    canvas.show()\n",
    "    canvas.get_tk_widget().pack()\n",
    "    toolbar = NavigationToolbar2TkAgg(canvas, top) #create navigation tool bar that contains the zoom-in/crop option\n",
    "    toolbar.update()\n",
    "    canvas._tkcanvas.pack(side=tkinter.TOP)\n",
    "    return\n",
    "\n",
    "def process_functions():   \n",
    "    return\n",
    "    \n",
    "B = tkinter.Button(top, text=\"Upload\", command = UploadFile) #create the button for upload file\n",
    "A = tkinter.Button(top, text=\"Process\", command = process_functions) #create the button for process image\n",
    "\n",
    "B.pack()\n",
    "A.pack(side=\"bottom\") #set the position of process button to always at the bottom\n",
    "top.mainloop()"
   ]
  },
  {
   "cell_type": "code",
   "execution_count": null,
   "metadata": {
    "collapsed": true
   },
   "outputs": [],
   "source": []
  }
 ],
 "metadata": {
  "anaconda-cloud": {},
  "kernelspec": {
   "display_name": "Python [default]",
   "language": "python",
   "name": "python3"
  },
  "language_info": {
   "codemirror_mode": {
    "name": "ipython",
    "version": 3
   },
   "file_extension": ".py",
   "mimetype": "text/x-python",
   "name": "python",
   "nbconvert_exporter": "python",
   "pygments_lexer": "ipython3",
   "version": "3.5.2"
  }
 },
 "nbformat": 4,
 "nbformat_minor": 2
}
